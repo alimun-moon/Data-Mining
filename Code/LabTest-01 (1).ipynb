{
 "cells": [
  {
   "cell_type": "code",
   "execution_count": 134,
   "metadata": {},
   "outputs": [],
   "source": [
    "import pandas as pd"
   ]
  },
  {
   "cell_type": "code",
   "execution_count": 135,
   "metadata": {},
   "outputs": [],
   "source": [
    "df = pd.read_csv(\"rainfall.csv\")"
   ]
  },
  {
   "cell_type": "code",
   "execution_count": 136,
   "metadata": {},
   "outputs": [
    {
     "name": "stdout",
     "output_type": "stream",
     "text": [
      "   day  pressure   maxtemp  temparature  mintemp  dewpoint  humidity   cloud   \\\n",
      "0    1     1025.9     19.9         18.3     16.8      13.1         72      49   \n",
      "1    2     1022.0     21.7         18.9     17.2      15.6         81      83   \n",
      "2    3     1019.7     20.3         19.3     18.0      18.4         95      91   \n",
      "3    4     1018.9     22.3         20.6     19.1      18.8         90      88   \n",
      "4    5     1015.9     21.3         20.7     20.2      19.9         95      81   \n",
      "5    6     1018.8     24.3         20.9     19.2      18.0         84      51   \n",
      "6    7     1021.8     21.4         18.8     17.0      15.0         79      56   \n",
      "7    8     1020.8     21.0         18.4     16.5      14.4         78      28   \n",
      "8    9     1020.6     18.9         18.1     17.1      14.3         78      79   \n",
      "9   10     1017.5     18.5         18.0     17.2      15.5         85      91   \n",
      "\n",
      "  rainfall  sunshine  winddirection  windspeed  \n",
      "0      yes       9.3           80.0       26.3  \n",
      "1      yes       0.6           50.0       15.3  \n",
      "2      yes       0.0           40.0       14.2  \n",
      "3      yes       1.0           50.0       16.9  \n",
      "4      yes       0.0           40.0       13.7  \n",
      "5      yes       7.7           20.0       14.5  \n",
      "6       no       3.4           30.0       21.5  \n",
      "7       no       7.7           60.0       14.3  \n",
      "8       no       3.3           70.0       39.3  \n",
      "9      yes       0.0           70.0       37.7  \n"
     ]
    }
   ],
   "source": [
    "print(df.head(10))"
   ]
  },
  {
   "cell_type": "code",
   "execution_count": 137,
   "metadata": {},
   "outputs": [
    {
     "name": "stdout",
     "output_type": "stream",
     "text": [
      "     day  pressure   maxtemp  temparature  mintemp  dewpoint  humidity   \\\n",
      "356   22     1020.3     20.6         19.9     18.7      17.6         87   \n",
      "357   23     1017.8     22.3         21.1     19.8      19.6         91   \n",
      "358   24     1016.8     24.7         22.3     21.1      20.7         91   \n",
      "359   25     1020.4     21.4         18.2     16.1      13.5         75   \n",
      "360   26     1020.6     19.7         17.9     16.9      13.3         74   \n",
      "361   27     1022.7     18.8         17.7     16.9      15.0         84   \n",
      "362   28     1026.6     18.6         17.3     16.3      12.8         75   \n",
      "363   29     1025.9     18.9         17.7     16.4      13.3         75   \n",
      "364   30     1025.3     19.2         17.3     15.2      13.3         78   \n",
      "365   31     1026.4     20.5         17.8     15.5      13.0         74   \n",
      "\n",
      "     cloud  rainfall  sunshine  winddirection  windspeed  \n",
      "356      88      yes       0.3           60.0       27.3  \n",
      "357      79      yes       0.0           40.0       15.0  \n",
      "358      70      yes       6.0           40.0        9.4  \n",
      "359      89      yes       0.7           10.0       27.6  \n",
      "360      87       no       0.6           30.0       21.6  \n",
      "361      90      yes       0.0           30.0       18.4  \n",
      "362      85      yes       1.0           20.0       25.9  \n",
      "363      78      yes       4.6           70.0       33.4  \n",
      "364      86      yes       1.2           20.0       20.9  \n",
      "365      66       no       5.7           20.0       23.3  \n"
     ]
    }
   ],
   "source": [
    "print(df.tail(10))"
   ]
  },
  {
   "cell_type": "code",
   "execution_count": 138,
   "metadata": {},
   "outputs": [
    {
     "name": "stdout",
     "output_type": "stream",
     "text": [
      "Index(['day', 'pressure ', 'maxtemp', 'temparature', 'mintemp', 'dewpoint',\n",
      "       'humidity ', 'cloud ', 'rainfall', 'sunshine', 'winddirection',\n",
      "       'windspeed'],\n",
      "      dtype='object')\n"
     ]
    }
   ],
   "source": [
    "print(df.columns)"
   ]
  },
  {
   "cell_type": "code",
   "execution_count": 139,
   "metadata": {},
   "outputs": [
    {
     "name": "stdout",
     "output_type": "stream",
     "text": [
      "day                int64\n",
      "pressure         float64\n",
      "maxtemp          float64\n",
      "temparature      float64\n",
      "mintemp          float64\n",
      "dewpoint         float64\n",
      "humidity           int64\n",
      "cloud              int64\n",
      "rainfall          object\n",
      "sunshine         float64\n",
      "winddirection    float64\n",
      "windspeed        float64\n",
      "dtype: object\n"
     ]
    }
   ],
   "source": [
    "print(df.dtypes)"
   ]
  },
  {
   "cell_type": "code",
   "execution_count": 140,
   "metadata": {},
   "outputs": [],
   "source": [
    "import numpy as np"
   ]
  },
  {
   "cell_type": "code",
   "execution_count": 141,
   "metadata": {},
   "outputs": [],
   "source": [
    "df['sunshine']=df['sunshine'].replace(0, np.nan)"
   ]
  },
  {
   "cell_type": "code",
   "execution_count": 142,
   "metadata": {},
   "outputs": [
    {
     "name": "stdout",
     "output_type": "stream",
     "text": [
      "   day  pressure   maxtemp  temparature  mintemp  dewpoint  humidity   cloud   \\\n",
      "0    1     1025.9     19.9         18.3     16.8      13.1         72      49   \n",
      "1    2     1022.0     21.7         18.9     17.2      15.6         81      83   \n",
      "2    3     1019.7     20.3         19.3     18.0      18.4         95      91   \n",
      "3    4     1018.9     22.3         20.6     19.1      18.8         90      88   \n",
      "4    5     1015.9     21.3         20.7     20.2      19.9         95      81   \n",
      "5    6     1018.8     24.3         20.9     19.2      18.0         84      51   \n",
      "6    7     1021.8     21.4         18.8     17.0      15.0         79      56   \n",
      "7    8     1020.8     21.0         18.4     16.5      14.4         78      28   \n",
      "8    9     1020.6     18.9         18.1     17.1      14.3         78      79   \n",
      "9   10     1017.5     18.5         18.0     17.2      15.5         85      91   \n",
      "\n",
      "  rainfall  sunshine  winddirection  windspeed  \n",
      "0      yes       9.3           80.0       26.3  \n",
      "1      yes       0.6           50.0       15.3  \n",
      "2      yes       NaN           40.0       14.2  \n",
      "3      yes       1.0           50.0       16.9  \n",
      "4      yes       NaN           40.0       13.7  \n",
      "5      yes       7.7           20.0       14.5  \n",
      "6       no       3.4           30.0       21.5  \n",
      "7       no       7.7           60.0       14.3  \n",
      "8       no       3.3           70.0       39.3  \n",
      "9      yes       NaN           70.0       37.7  \n"
     ]
    }
   ],
   "source": [
    "print(df.head(10))"
   ]
  },
  {
   "cell_type": "code",
   "execution_count": 143,
   "metadata": {},
   "outputs": [],
   "source": [
    "df = df.dropna()"
   ]
  },
  {
   "cell_type": "code",
   "execution_count": 144,
   "metadata": {},
   "outputs": [
    {
     "name": "stdout",
     "output_type": "stream",
     "text": [
      "    day  pressure   maxtemp  temparature  mintemp  dewpoint  humidity   \\\n",
      "0     1     1025.9     19.9         18.3     16.8      13.1         72   \n",
      "1     2     1022.0     21.7         18.9     17.2      15.6         81   \n",
      "3     4     1018.9     22.3         20.6     19.1      18.8         90   \n",
      "5     6     1018.8     24.3         20.9     19.2      18.0         84   \n",
      "6     7     1021.8     21.4         18.8     17.0      15.0         79   \n",
      "7     8     1020.8     21.0         18.4     16.5      14.4         78   \n",
      "8     9     1020.6     18.9         18.1     17.1      14.3         78   \n",
      "10   11     1016.5     20.4         18.1     16.5      16.4         90   \n",
      "11   12     1019.9     18.5         17.3     16.1      13.7         79   \n",
      "12   13     1020.8     18.7         16.1     14.2      12.1         77   \n",
      "\n",
      "    cloud  rainfall  sunshine  winddirection  windspeed  \n",
      "0       49      yes       9.3           80.0       26.3  \n",
      "1       83      yes       0.6           50.0       15.3  \n",
      "3       88      yes       1.0           50.0       16.9  \n",
      "5       51      yes       7.7           20.0       14.5  \n",
      "6       56       no       3.4           30.0       21.5  \n",
      "7       28       no       7.7           60.0       14.3  \n",
      "8       79       no       3.3           70.0       39.3  \n",
      "10      90      yes       2.1           40.0       23.3  \n",
      "11      86       no       0.6           20.0       23.9  \n",
      "12      34       no       9.1           30.0       24.4  \n"
     ]
    }
   ],
   "source": [
    "print(df.head(10))"
   ]
  },
  {
   "cell_type": "code",
   "execution_count": 145,
   "metadata": {},
   "outputs": [],
   "source": [
    "df1 = df[['winddirection', 'windspeed']]"
   ]
  },
  {
   "cell_type": "code",
   "execution_count": 146,
   "metadata": {},
   "outputs": [
    {
     "name": "stdout",
     "output_type": "stream",
     "text": [
      "     winddirection  windspeed\n",
      "0             80.0       26.3\n",
      "1             50.0       15.3\n",
      "3             50.0       16.9\n",
      "5             20.0       14.5\n",
      "6             30.0       21.5\n",
      "..             ...        ...\n",
      "360           30.0       21.6\n",
      "362           20.0       25.9\n",
      "363           70.0       33.4\n",
      "364           20.0       20.9\n",
      "365           20.0       23.3\n",
      "\n",
      "[311 rows x 2 columns]\n"
     ]
    }
   ],
   "source": [
    "print(df1)"
   ]
  },
  {
   "cell_type": "code",
   "execution_count": 147,
   "metadata": {},
   "outputs": [],
   "source": [
    "# I'll measure similarities and distances between two clumns wich is winddirection and windspeed, both are float type and related to each other. That's why i dropped Other columns."
   ]
  },
  {
   "cell_type": "code",
   "execution_count": 148,
   "metadata": {},
   "outputs": [],
   "source": [
    "import matplotlib.pyplot as plt"
   ]
  },
  {
   "cell_type": "code",
   "execution_count": 149,
   "metadata": {},
   "outputs": [
    {
     "data": {
      "image/png": "[encoded data removed]",
      "text/plain": [
       "<Figure size 432x288 with 1 Axes>"
      ]
     },
     "metadata": {
      "needs_background": "light"
     },
     "output_type": "display_data"
    }
   ],
   "source": [
    "plt.scatter(df1.winddirection, df1.windspeed)\n",
    "plt.xlabel('Direction')\n",
    "plt.ylabel('Speed')\n",
    "plt.show()"
   ]
  },
  {
   "cell_type": "code",
   "execution_count": 150,
   "metadata": {},
   "outputs": [],
   "source": [
    "# By looking at the scatterplot, they are negatively related."
   ]
  },
  {
   "cell_type": "code",
   "execution_count": 151,
   "metadata": {},
   "outputs": [
    {
     "name": "stdout",
     "output_type": "stream",
     "text": [
      "   day  pressure   maxtemp  temparature  mintemp  dewpoint  humidity   cloud   \\\n",
      "0    1     1025.9     19.9         18.3     16.8      13.1         72      49   \n",
      "1    2     1022.0     21.7         18.9     17.2      15.6         81      83   \n",
      "3    4     1018.9     22.3         20.6     19.1      18.8         90      88   \n",
      "5    6     1018.8     24.3         20.9     19.2      18.0         84      51   \n",
      "6    7     1021.8     21.4         18.8     17.0      15.0         79      56   \n",
      "\n",
      "  rainfall  sunshine  winddirection  windspeed  \n",
      "0      yes       9.3           80.0       26.3  \n",
      "1      yes       0.6           50.0       15.3  \n",
      "3      yes       1.0           50.0       16.9  \n",
      "5      yes       7.7           20.0       14.5  \n",
      "6       no       3.4           30.0       21.5  \n"
     ]
    }
   ],
   "source": [
    "print(df.head(5))"
   ]
  },
  {
   "cell_type": "code",
   "execution_count": 152,
   "metadata": {},
   "outputs": [],
   "source": [
    "df.drop(df.columns.difference(['winddirection','windspeed']), 1, inplace=True)"
   ]
  },
  {
   "cell_type": "code",
   "execution_count": 153,
   "metadata": {},
   "outputs": [
    {
     "data": {
      "text/html": [
       "<div>\n",
       "<style scoped>\n",
       "    .dataframe tbody tr th:only-of-type {\n",
       "        vertical-align: middle;\n",
       "    }\n",
       "\n",
       "    .dataframe tbody tr th {\n",
       "        vertical-align: top;\n",
       "    }\n",
       "\n",
       "    .dataframe thead th {\n",
       "        text-align: right;\n",
       "    }\n",
       "</style>\n",
       "<table border=\"1\" class=\"dataframe\">\n",
       "  <thead>\n",
       "    <tr style=\"text-align: right;\">\n",
       "      <th></th>\n",
       "      <th>winddirection</th>\n",
       "      <th>windspeed</th>\n",
       "    </tr>\n",
       "  </thead>\n",
       "  <tbody>\n",
       "    <tr>\n",
       "      <th>0</th>\n",
       "      <td>80.0</td>\n",
       "      <td>26.3</td>\n",
       "    </tr>\n",
       "    <tr>\n",
       "      <th>1</th>\n",
       "      <td>50.0</td>\n",
       "      <td>15.3</td>\n",
       "    </tr>\n",
       "    <tr>\n",
       "      <th>3</th>\n",
       "      <td>50.0</td>\n",
       "      <td>16.9</td>\n",
       "    </tr>\n",
       "    <tr>\n",
       "      <th>5</th>\n",
       "      <td>20.0</td>\n",
       "      <td>14.5</td>\n",
       "    </tr>\n",
       "    <tr>\n",
       "      <th>6</th>\n",
       "      <td>30.0</td>\n",
       "      <td>21.5</td>\n",
       "    </tr>\n",
       "    <tr>\n",
       "      <th>...</th>\n",
       "      <td>...</td>\n",
       "      <td>...</td>\n",
       "    </tr>\n",
       "    <tr>\n",
       "      <th>360</th>\n",
       "      <td>30.0</td>\n",
       "      <td>21.6</td>\n",
       "    </tr>\n",
       "    <tr>\n",
       "      <th>362</th>\n",
       "      <td>20.0</td>\n",
       "      <td>25.9</td>\n",
       "    </tr>\n",
       "    <tr>\n",
       "      <th>363</th>\n",
       "      <td>70.0</td>\n",
       "      <td>33.4</td>\n",
       "    </tr>\n",
       "    <tr>\n",
       "      <th>364</th>\n",
       "      <td>20.0</td>\n",
       "      <td>20.9</td>\n",
       "    </tr>\n",
       "    <tr>\n",
       "      <th>365</th>\n",
       "      <td>20.0</td>\n",
       "      <td>23.3</td>\n",
       "    </tr>\n",
       "  </tbody>\n",
       "</table>\n",
       "<p>311 rows × 2 columns</p>\n",
       "</div>"
      ],
      "text/plain": [
       "     winddirection  windspeed\n",
       "0             80.0       26.3\n",
       "1             50.0       15.3\n",
       "3             50.0       16.9\n",
       "5             20.0       14.5\n",
       "6             30.0       21.5\n",
       "..             ...        ...\n",
       "360           30.0       21.6\n",
       "362           20.0       25.9\n",
       "363           70.0       33.4\n",
       "364           20.0       20.9\n",
       "365           20.0       23.3\n",
       "\n",
       "[311 rows x 2 columns]"
      ]
     },
     "execution_count": 153,
     "metadata": {},
     "output_type": "execute_result"
    }
   ],
   "source": [
    "df"
   ]
  },
  {
   "cell_type": "code",
   "execution_count": 154,
   "metadata": {},
   "outputs": [],
   "source": [
    "variance = np.cov(df.winddirection, df.windspeed)"
   ]
  },
  {
   "cell_type": "code",
   "execution_count": 155,
   "metadata": {},
   "outputs": [
    {
     "name": "stdout",
     "output_type": "stream",
     "text": [
      "-134.37878850741623\n"
     ]
    }
   ],
   "source": [
    "print(variance[0,1])"
   ]
  },
  {
   "cell_type": "code",
   "execution_count": 156,
   "metadata": {},
   "outputs": [],
   "source": [
    "# They are negatively covariant."
   ]
  },
  {
   "cell_type": "code",
   "execution_count": 157,
   "metadata": {},
   "outputs": [],
   "source": [
    "def pearson(x,y):\n",
    "    correlation = np.corrcoef(x,y)\n",
    "    return correlation[0,1]"
   ]
  },
  {
   "cell_type": "code",
   "execution_count": 158,
   "metadata": {},
   "outputs": [],
   "source": [
    "relation = pearson(df.winddirection, df.windspeed)"
   ]
  },
  {
   "cell_type": "code",
   "execution_count": 159,
   "metadata": {},
   "outputs": [
    {
     "name": "stdout",
     "output_type": "stream",
     "text": [
      "-0.1741259760517004\n"
     ]
    }
   ],
   "source": [
    "print(relation)"
   ]
  },
  {
   "cell_type": "code",
   "execution_count": 160,
   "metadata": {},
   "outputs": [],
   "source": [
    "# They have anti-corelation but not so related."
   ]
  },
  {
   "cell_type": "code",
   "execution_count": null,
   "metadata": {},
   "outputs": [],
   "source": []
  }
 ],
 "metadata": {
  "kernelspec": {
   "display_name": "Python 3",
   "language": "python",
   "name": "python3"
  },
  "language_info": {
   "codemirror_mode": {
    "name": "ipython",
    "version": 3
   },
   "file_extension": ".py",
   "mimetype": "text/x-python",
   "name": "python",
   "nbconvert_exporter": "python",
   "pygments_lexer": "ipython3",
   "version": "3.8.5"
  }
 },
 "nbformat": 4,
 "nbformat_minor": 4
}
